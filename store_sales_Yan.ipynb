{
 "cells": [
  {
   "cell_type": "code",
   "execution_count": 1,
   "metadata": {
    "collapsed": true
   },
   "outputs": [],
   "source": [
    "import pandas as pd\n",
    "import numpy as np\n",
    "import matplotlib.pyplot as pl\n",
    "import seaborn as sns\n",
    "\n",
    "%matplotlib inline "
   ]
  },
  {
   "cell_type": "code",
   "execution_count": 2,
   "metadata": {
    "collapsed": true
   },
   "outputs": [],
   "source": [
    "train = pd.read_csv(\"train.csv\")\n",
    "test = pd.read_csv(\"test.csv\")\n",
    "\n",
    "sample_submission = pd.read_csv(\"sample_submission.csv\")"
   ]
  },
  {
   "cell_type": "code",
   "execution_count": 3,
   "metadata": {
    "collapsed": false
   },
   "outputs": [
    {
     "data": {
      "text/html": [
       "<div>\n",
       "<table border=\"1\" class=\"dataframe\">\n",
       "  <thead>\n",
       "    <tr style=\"text-align: right;\">\n",
       "      <th></th>\n",
       "      <th>Item_Identifier</th>\n",
       "      <th>Item_Weight</th>\n",
       "      <th>Item_Fat_Content</th>\n",
       "      <th>Item_Visibility</th>\n",
       "      <th>Item_Type</th>\n",
       "      <th>Item_MRP</th>\n",
       "      <th>Outlet_Identifier</th>\n",
       "      <th>Outlet_Establishment_Year</th>\n",
       "      <th>Outlet_Size</th>\n",
       "      <th>Outlet_Location_Type</th>\n",
       "      <th>Outlet_Type</th>\n",
       "      <th>Item_Outlet_Sales</th>\n",
       "    </tr>\n",
       "  </thead>\n",
       "  <tbody>\n",
       "    <tr>\n",
       "      <th>0</th>\n",
       "      <td>FDA15</td>\n",
       "      <td>9.30</td>\n",
       "      <td>Low Fat</td>\n",
       "      <td>0.016047</td>\n",
       "      <td>Dairy</td>\n",
       "      <td>249.8092</td>\n",
       "      <td>OUT049</td>\n",
       "      <td>1999</td>\n",
       "      <td>Medium</td>\n",
       "      <td>Tier 1</td>\n",
       "      <td>Supermarket Type1</td>\n",
       "      <td>3735.1380</td>\n",
       "    </tr>\n",
       "    <tr>\n",
       "      <th>1</th>\n",
       "      <td>DRC01</td>\n",
       "      <td>5.92</td>\n",
       "      <td>Regular</td>\n",
       "      <td>0.019278</td>\n",
       "      <td>Soft Drinks</td>\n",
       "      <td>48.2692</td>\n",
       "      <td>OUT018</td>\n",
       "      <td>2009</td>\n",
       "      <td>Medium</td>\n",
       "      <td>Tier 3</td>\n",
       "      <td>Supermarket Type2</td>\n",
       "      <td>443.4228</td>\n",
       "    </tr>\n",
       "    <tr>\n",
       "      <th>2</th>\n",
       "      <td>FDN15</td>\n",
       "      <td>17.50</td>\n",
       "      <td>Low Fat</td>\n",
       "      <td>0.016760</td>\n",
       "      <td>Meat</td>\n",
       "      <td>141.6180</td>\n",
       "      <td>OUT049</td>\n",
       "      <td>1999</td>\n",
       "      <td>Medium</td>\n",
       "      <td>Tier 1</td>\n",
       "      <td>Supermarket Type1</td>\n",
       "      <td>2097.2700</td>\n",
       "    </tr>\n",
       "    <tr>\n",
       "      <th>3</th>\n",
       "      <td>FDX07</td>\n",
       "      <td>19.20</td>\n",
       "      <td>Regular</td>\n",
       "      <td>0.000000</td>\n",
       "      <td>Fruits and Vegetables</td>\n",
       "      <td>182.0950</td>\n",
       "      <td>OUT010</td>\n",
       "      <td>1998</td>\n",
       "      <td>NaN</td>\n",
       "      <td>Tier 3</td>\n",
       "      <td>Grocery Store</td>\n",
       "      <td>732.3800</td>\n",
       "    </tr>\n",
       "    <tr>\n",
       "      <th>4</th>\n",
       "      <td>NCD19</td>\n",
       "      <td>8.93</td>\n",
       "      <td>Low Fat</td>\n",
       "      <td>0.000000</td>\n",
       "      <td>Household</td>\n",
       "      <td>53.8614</td>\n",
       "      <td>OUT013</td>\n",
       "      <td>1987</td>\n",
       "      <td>High</td>\n",
       "      <td>Tier 3</td>\n",
       "      <td>Supermarket Type1</td>\n",
       "      <td>994.7052</td>\n",
       "    </tr>\n",
       "  </tbody>\n",
       "</table>\n",
       "</div>"
      ],
      "text/plain": [
       "  Item_Identifier  Item_Weight Item_Fat_Content  Item_Visibility  \\\n",
       "0           FDA15         9.30          Low Fat         0.016047   \n",
       "1           DRC01         5.92          Regular         0.019278   \n",
       "2           FDN15        17.50          Low Fat         0.016760   \n",
       "3           FDX07        19.20          Regular         0.000000   \n",
       "4           NCD19         8.93          Low Fat         0.000000   \n",
       "\n",
       "               Item_Type  Item_MRP Outlet_Identifier  \\\n",
       "0                  Dairy  249.8092            OUT049   \n",
       "1            Soft Drinks   48.2692            OUT018   \n",
       "2                   Meat  141.6180            OUT049   \n",
       "3  Fruits and Vegetables  182.0950            OUT010   \n",
       "4              Household   53.8614            OUT013   \n",
       "\n",
       "   Outlet_Establishment_Year Outlet_Size Outlet_Location_Type  \\\n",
       "0                       1999      Medium               Tier 1   \n",
       "1                       2009      Medium               Tier 3   \n",
       "2                       1999      Medium               Tier 1   \n",
       "3                       1998         NaN               Tier 3   \n",
       "4                       1987        High               Tier 3   \n",
       "\n",
       "         Outlet_Type  Item_Outlet_Sales  \n",
       "0  Supermarket Type1          3735.1380  \n",
       "1  Supermarket Type2           443.4228  \n",
       "2  Supermarket Type1          2097.2700  \n",
       "3      Grocery Store           732.3800  \n",
       "4  Supermarket Type1           994.7052  "
      ]
     },
     "execution_count": 3,
     "metadata": {},
     "output_type": "execute_result"
    }
   ],
   "source": [
    "train.head()"
   ]
  },
  {
   "cell_type": "code",
   "execution_count": 4,
   "metadata": {
    "collapsed": false
   },
   "outputs": [
    {
     "data": {
      "text/html": [
       "<div>\n",
       "<table border=\"1\" class=\"dataframe\">\n",
       "  <thead>\n",
       "    <tr style=\"text-align: right;\">\n",
       "      <th></th>\n",
       "      <th>Item_Identifier</th>\n",
       "      <th>Item_Weight</th>\n",
       "      <th>Item_Fat_Content</th>\n",
       "      <th>Item_Visibility</th>\n",
       "      <th>Item_Type</th>\n",
       "      <th>Item_MRP</th>\n",
       "      <th>Outlet_Identifier</th>\n",
       "      <th>Outlet_Establishment_Year</th>\n",
       "      <th>Outlet_Size</th>\n",
       "      <th>Outlet_Location_Type</th>\n",
       "      <th>Outlet_Type</th>\n",
       "    </tr>\n",
       "  </thead>\n",
       "  <tbody>\n",
       "    <tr>\n",
       "      <th>0</th>\n",
       "      <td>FDW58</td>\n",
       "      <td>20.750</td>\n",
       "      <td>Low Fat</td>\n",
       "      <td>0.007565</td>\n",
       "      <td>Snack Foods</td>\n",
       "      <td>107.8622</td>\n",
       "      <td>OUT049</td>\n",
       "      <td>1999</td>\n",
       "      <td>Medium</td>\n",
       "      <td>Tier 1</td>\n",
       "      <td>Supermarket Type1</td>\n",
       "    </tr>\n",
       "    <tr>\n",
       "      <th>1</th>\n",
       "      <td>FDW14</td>\n",
       "      <td>8.300</td>\n",
       "      <td>reg</td>\n",
       "      <td>0.038428</td>\n",
       "      <td>Dairy</td>\n",
       "      <td>87.3198</td>\n",
       "      <td>OUT017</td>\n",
       "      <td>2007</td>\n",
       "      <td>NaN</td>\n",
       "      <td>Tier 2</td>\n",
       "      <td>Supermarket Type1</td>\n",
       "    </tr>\n",
       "    <tr>\n",
       "      <th>2</th>\n",
       "      <td>NCN55</td>\n",
       "      <td>14.600</td>\n",
       "      <td>Low Fat</td>\n",
       "      <td>0.099575</td>\n",
       "      <td>Others</td>\n",
       "      <td>241.7538</td>\n",
       "      <td>OUT010</td>\n",
       "      <td>1998</td>\n",
       "      <td>NaN</td>\n",
       "      <td>Tier 3</td>\n",
       "      <td>Grocery Store</td>\n",
       "    </tr>\n",
       "    <tr>\n",
       "      <th>3</th>\n",
       "      <td>FDQ58</td>\n",
       "      <td>7.315</td>\n",
       "      <td>Low Fat</td>\n",
       "      <td>0.015388</td>\n",
       "      <td>Snack Foods</td>\n",
       "      <td>155.0340</td>\n",
       "      <td>OUT017</td>\n",
       "      <td>2007</td>\n",
       "      <td>NaN</td>\n",
       "      <td>Tier 2</td>\n",
       "      <td>Supermarket Type1</td>\n",
       "    </tr>\n",
       "    <tr>\n",
       "      <th>4</th>\n",
       "      <td>FDY38</td>\n",
       "      <td>NaN</td>\n",
       "      <td>Regular</td>\n",
       "      <td>0.118599</td>\n",
       "      <td>Dairy</td>\n",
       "      <td>234.2300</td>\n",
       "      <td>OUT027</td>\n",
       "      <td>1985</td>\n",
       "      <td>Medium</td>\n",
       "      <td>Tier 3</td>\n",
       "      <td>Supermarket Type3</td>\n",
       "    </tr>\n",
       "  </tbody>\n",
       "</table>\n",
       "</div>"
      ],
      "text/plain": [
       "  Item_Identifier  Item_Weight Item_Fat_Content  Item_Visibility    Item_Type  \\\n",
       "0           FDW58       20.750          Low Fat         0.007565  Snack Foods   \n",
       "1           FDW14        8.300              reg         0.038428        Dairy   \n",
       "2           NCN55       14.600          Low Fat         0.099575       Others   \n",
       "3           FDQ58        7.315          Low Fat         0.015388  Snack Foods   \n",
       "4           FDY38          NaN          Regular         0.118599        Dairy   \n",
       "\n",
       "   Item_MRP Outlet_Identifier  Outlet_Establishment_Year Outlet_Size  \\\n",
       "0  107.8622            OUT049                       1999      Medium   \n",
       "1   87.3198            OUT017                       2007         NaN   \n",
       "2  241.7538            OUT010                       1998         NaN   \n",
       "3  155.0340            OUT017                       2007         NaN   \n",
       "4  234.2300            OUT027                       1985      Medium   \n",
       "\n",
       "  Outlet_Location_Type        Outlet_Type  \n",
       "0               Tier 1  Supermarket Type1  \n",
       "1               Tier 2  Supermarket Type1  \n",
       "2               Tier 3      Grocery Store  \n",
       "3               Tier 2  Supermarket Type1  \n",
       "4               Tier 3  Supermarket Type3  "
      ]
     },
     "execution_count": 4,
     "metadata": {},
     "output_type": "execute_result"
    }
   ],
   "source": [
    "test.head()"
   ]
  },
  {
   "cell_type": "code",
   "execution_count": 5,
   "metadata": {
    "collapsed": false
   },
   "outputs": [
    {
     "data": {
      "text/html": [
       "<div>\n",
       "<table border=\"1\" class=\"dataframe\">\n",
       "  <thead>\n",
       "    <tr style=\"text-align: right;\">\n",
       "      <th></th>\n",
       "      <th>Item_Identifier</th>\n",
       "      <th>Outlet_Identifier</th>\n",
       "      <th>Item_Outlet_Sales</th>\n",
       "    </tr>\n",
       "  </thead>\n",
       "  <tbody>\n",
       "    <tr>\n",
       "      <th>0</th>\n",
       "      <td>FDW58</td>\n",
       "      <td>OUT049</td>\n",
       "      <td>NaN</td>\n",
       "    </tr>\n",
       "    <tr>\n",
       "      <th>1</th>\n",
       "      <td>FDW14</td>\n",
       "      <td>OUT017</td>\n",
       "      <td>NaN</td>\n",
       "    </tr>\n",
       "    <tr>\n",
       "      <th>2</th>\n",
       "      <td>NCN55</td>\n",
       "      <td>OUT010</td>\n",
       "      <td>NaN</td>\n",
       "    </tr>\n",
       "    <tr>\n",
       "      <th>3</th>\n",
       "      <td>FDQ58</td>\n",
       "      <td>OUT017</td>\n",
       "      <td>NaN</td>\n",
       "    </tr>\n",
       "    <tr>\n",
       "      <th>4</th>\n",
       "      <td>FDY38</td>\n",
       "      <td>OUT027</td>\n",
       "      <td>NaN</td>\n",
       "    </tr>\n",
       "  </tbody>\n",
       "</table>\n",
       "</div>"
      ],
      "text/plain": [
       "  Item_Identifier Outlet_Identifier  Item_Outlet_Sales\n",
       "0           FDW58            OUT049                NaN\n",
       "1           FDW14            OUT017                NaN\n",
       "2           NCN55            OUT010                NaN\n",
       "3           FDQ58            OUT017                NaN\n",
       "4           FDY38            OUT027                NaN"
      ]
     },
     "execution_count": 5,
     "metadata": {},
     "output_type": "execute_result"
    }
   ],
   "source": [
    "sample_submission.head()"
   ]
  },
  {
   "cell_type": "code",
   "execution_count": 6,
   "metadata": {
    "collapsed": false
   },
   "outputs": [
    {
     "name": "stdout",
     "output_type": "stream",
     "text": [
      "<class 'pandas.core.frame.DataFrame'>\n",
      "RangeIndex: 8523 entries, 0 to 8522\n",
      "Data columns (total 12 columns):\n",
      "Item_Identifier              8523 non-null object\n",
      "Item_Weight                  7060 non-null float64\n",
      "Item_Fat_Content             8523 non-null object\n",
      "Item_Visibility              8523 non-null float64\n",
      "Item_Type                    8523 non-null object\n",
      "Item_MRP                     8523 non-null float64\n",
      "Outlet_Identifier            8523 non-null object\n",
      "Outlet_Establishment_Year    8523 non-null int64\n",
      "Outlet_Size                  6113 non-null object\n",
      "Outlet_Location_Type         8523 non-null object\n",
      "Outlet_Type                  8523 non-null object\n",
      "Item_Outlet_Sales            8523 non-null float64\n",
      "dtypes: float64(4), int64(1), object(7)\n",
      "memory usage: 799.1+ KB\n"
     ]
    }
   ],
   "source": [
    "train.info()"
   ]
  },
  {
   "cell_type": "code",
   "execution_count": 7,
   "metadata": {
    "collapsed": true
   },
   "outputs": [],
   "source": [
    "train['Type'] = 'Train'\n",
    "test['Type'] = 'Test'\n",
    "\n",
    "full_data = pd.concat([train, test], axis = 0)"
   ]
  },
  {
   "cell_type": "code",
   "execution_count": 8,
   "metadata": {
    "collapsed": false
   },
   "outputs": [
    {
     "name": "stdout",
     "output_type": "stream",
     "text": [
      "<class 'pandas.core.frame.DataFrame'>\n",
      "Int64Index: 14204 entries, 0 to 5680\n",
      "Data columns (total 13 columns):\n",
      "Item_Fat_Content             14204 non-null object\n",
      "Item_Identifier              14204 non-null object\n",
      "Item_MRP                     14204 non-null float64\n",
      "Item_Outlet_Sales            8523 non-null float64\n",
      "Item_Type                    14204 non-null object\n",
      "Item_Visibility              14204 non-null float64\n",
      "Item_Weight                  11765 non-null float64\n",
      "Outlet_Establishment_Year    14204 non-null int64\n",
      "Outlet_Identifier            14204 non-null object\n",
      "Outlet_Location_Type         14204 non-null object\n",
      "Outlet_Size                  10188 non-null object\n",
      "Outlet_Type                  14204 non-null object\n",
      "Type                         14204 non-null object\n",
      "dtypes: float64(4), int64(1), object(8)\n",
      "memory usage: 1.5+ MB\n"
     ]
    }
   ],
   "source": [
    "full_data.info()"
   ]
  },
  {
   "cell_type": "code",
   "execution_count": 9,
   "metadata": {
    "collapsed": false
   },
   "outputs": [
    {
     "data": {
      "text/plain": [
       "array(['Low Fat', 'Regular', 'low fat', 'LF', 'reg'], dtype=object)"
      ]
     },
     "execution_count": 9,
     "metadata": {},
     "output_type": "execute_result"
    }
   ],
   "source": [
    "pd.unique(full_data[\"Item_Fat_Content\"])"
   ]
  },
  {
   "cell_type": "code",
   "execution_count": 10,
   "metadata": {
    "collapsed": false
   },
   "outputs": [
    {
     "data": {
      "text/plain": [
       "array(['Dairy', 'Soft Drinks', 'Meat', 'Fruits and Vegetables',\n",
       "       'Household', 'Baking Goods', 'Snack Foods', 'Frozen Foods',\n",
       "       'Breakfast', 'Health and Hygiene', 'Hard Drinks', 'Canned',\n",
       "       'Breads', 'Starchy Foods', 'Others', 'Seafood'], dtype=object)"
      ]
     },
     "execution_count": 10,
     "metadata": {},
     "output_type": "execute_result"
    }
   ],
   "source": [
    "pd.unique(full_data[\"Item_Type\"])"
   ]
  },
  {
   "cell_type": "code",
   "execution_count": 11,
   "metadata": {
    "collapsed": false
   },
   "outputs": [],
   "source": [
    "full_data.loc[full_data['Item_Fat_Content'] == 'LF', 'Item_Fat_Content'] = 'Low Fat'\n",
    "full_data.loc[full_data['Item_Fat_Content'] == 'low fat', 'Item_Fat_Content'] = 'Low Fat'\n",
    "full_data.loc[full_data['Item_Fat_Content'] == 'reg', 'Item_Fat_Content'] = 'Regular'"
   ]
  },
  {
   "cell_type": "code",
   "execution_count": 12,
   "metadata": {
    "collapsed": false
   },
   "outputs": [
    {
     "data": {
      "text/plain": [
       "array(['Low Fat', 'Regular'], dtype=object)"
      ]
     },
     "execution_count": 12,
     "metadata": {},
     "output_type": "execute_result"
    }
   ],
   "source": [
    "pd.unique(full_data[\"Item_Fat_Content\"])"
   ]
  },
  {
   "cell_type": "code",
   "execution_count": 13,
   "metadata": {
    "collapsed": false
   },
   "outputs": [],
   "source": [
    "unique_item = pd.unique(full_data[\"Item_Identifier\"])"
   ]
  },
  {
   "cell_type": "code",
   "execution_count": 14,
   "metadata": {
    "collapsed": false
   },
   "outputs": [],
   "source": [
    "for item in unique_item:\n",
    "    fill = full_data.loc[full_data[\"Item_Identifier\"] == item, \"Item_Weight\"].mode()[0]\n",
    "    full_data.ix[full_data[\"Item_Identifier\"] == item, \n",
    "                 \"Item_Weight\"] = full_data.ix[full_data[\"Item_Identifier\"] == item, \"Item_Weight\"].fillna(fill)"
   ]
  },
  {
   "cell_type": "code",
   "execution_count": 15,
   "metadata": {
    "collapsed": false
   },
   "outputs": [
    {
     "name": "stdout",
     "output_type": "stream",
     "text": [
      "<class 'pandas.core.frame.DataFrame'>\n",
      "Int64Index: 14204 entries, 0 to 5680\n",
      "Data columns (total 13 columns):\n",
      "Item_Fat_Content             14204 non-null object\n",
      "Item_Identifier              14204 non-null object\n",
      "Item_MRP                     14204 non-null float64\n",
      "Item_Outlet_Sales            8523 non-null float64\n",
      "Item_Type                    14204 non-null object\n",
      "Item_Visibility              14204 non-null float64\n",
      "Item_Weight                  14204 non-null float64\n",
      "Outlet_Establishment_Year    14204 non-null int64\n",
      "Outlet_Identifier            14204 non-null object\n",
      "Outlet_Location_Type         14204 non-null object\n",
      "Outlet_Size                  10188 non-null object\n",
      "Outlet_Type                  14204 non-null object\n",
      "Type                         14204 non-null object\n",
      "dtypes: float64(4), int64(1), object(8)\n",
      "memory usage: 1.5+ MB\n"
     ]
    }
   ],
   "source": [
    "full_data.info()"
   ]
  },
  {
   "cell_type": "code",
   "execution_count": 16,
   "metadata": {
    "collapsed": true
   },
   "outputs": [],
   "source": [
    "unique_outlet = pd.unique(full_data[\"Outlet_Identifier\"])"
   ]
  },
  {
   "cell_type": "code",
   "execution_count": 17,
   "metadata": {
    "collapsed": false
   },
   "outputs": [
    {
     "name": "stdout",
     "output_type": "stream",
     "text": [
      "OUT049\n",
      "['Medium']\n",
      "OUT018\n",
      "['Medium']\n",
      "OUT010\n",
      "[nan]\n",
      "OUT013\n",
      "['High']\n",
      "OUT027\n",
      "['Medium']\n",
      "OUT045\n",
      "[nan]\n",
      "OUT017\n",
      "[nan]\n",
      "OUT046\n",
      "['Small']\n",
      "OUT035\n",
      "['Small']\n",
      "OUT019\n",
      "['Small']\n"
     ]
    }
   ],
   "source": [
    "for outlet in unique_outlet:\n",
    "    fill = pd.unique(full_data.loc[full_data[\"Outlet_Identifier\"] == outlet, \"Outlet_Size\"])\n",
    "    print outlet\n",
    "    print fill"
   ]
  },
  {
   "cell_type": "code",
   "execution_count": 18,
   "metadata": {
    "collapsed": false
   },
   "outputs": [],
   "source": [
    "full_data = full_data.drop(\"Outlet_Size\", axis = 1)"
   ]
  },
  {
   "cell_type": "code",
   "execution_count": 19,
   "metadata": {
    "collapsed": false,
    "scrolled": true
   },
   "outputs": [
    {
     "name": "stdout",
     "output_type": "stream",
     "text": [
      "<class 'pandas.core.frame.DataFrame'>\n",
      "Int64Index: 14204 entries, 0 to 5680\n",
      "Data columns (total 12 columns):\n",
      "Item_Fat_Content             14204 non-null object\n",
      "Item_Identifier              14204 non-null object\n",
      "Item_MRP                     14204 non-null float64\n",
      "Item_Outlet_Sales            8523 non-null float64\n",
      "Item_Type                    14204 non-null object\n",
      "Item_Visibility              14204 non-null float64\n",
      "Item_Weight                  14204 non-null float64\n",
      "Outlet_Establishment_Year    14204 non-null int64\n",
      "Outlet_Identifier            14204 non-null object\n",
      "Outlet_Location_Type         14204 non-null object\n",
      "Outlet_Type                  14204 non-null object\n",
      "Type                         14204 non-null object\n",
      "dtypes: float64(4), int64(1), object(7)\n",
      "memory usage: 1.4+ MB\n"
     ]
    }
   ],
   "source": [
    "full_data.info()"
   ]
  },
  {
   "cell_type": "code",
   "execution_count": 20,
   "metadata": {
    "collapsed": false
   },
   "outputs": [
    {
     "data": {
      "text/plain": [
       "Item_Fat_Content             False\n",
       "Item_Identifier              False\n",
       "Item_MRP                     False\n",
       "Item_Outlet_Sales             True\n",
       "Item_Type                    False\n",
       "Item_Visibility              False\n",
       "Item_Weight                  False\n",
       "Outlet_Establishment_Year    False\n",
       "Outlet_Identifier            False\n",
       "Outlet_Location_Type         False\n",
       "Outlet_Type                  False\n",
       "Type                         False\n",
       "dtype: bool"
      ]
     },
     "execution_count": 20,
     "metadata": {},
     "output_type": "execute_result"
    }
   ],
   "source": [
    "full_data.isnull().any()"
   ]
  },
  {
   "cell_type": "code",
   "execution_count": 21,
   "metadata": {
    "collapsed": false
   },
   "outputs": [
    {
     "name": "stdout",
     "output_type": "stream",
     "text": [
      "(14204, 10)\n"
     ]
    }
   ],
   "source": [
    "full_data = full_data.set_index([\"Item_Identifier\", \"Outlet_Identifier\"], drop = True)\n",
    "print full_data.shape"
   ]
  },
  {
   "cell_type": "code",
   "execution_count": 22,
   "metadata": {
    "collapsed": false
   },
   "outputs": [],
   "source": [
    "taget = \"Item_Outlets_Sales\""
   ]
  },
  {
   "cell_type": "code",
   "execution_count": 23,
   "metadata": {
    "collapsed": false
   },
   "outputs": [
    {
     "name": "stdout",
     "output_type": "stream",
     "text": [
      "numerical features:  ['Item_MRP' 'Item_Visibility' 'Item_Weight' 'Outlet_Establishment_Year']\n"
     ]
    }
   ],
   "source": [
    "numeric_f = full_data.dtypes[full_data.dtypes != \"object\"].index\n",
    "numeric_f = numeric_f.drop([\"Item_Outlet_Sales\"])\n",
    "print \"numerical features: \", numeric_f.values"
   ]
  },
  {
   "cell_type": "code",
   "execution_count": 24,
   "metadata": {
    "collapsed": false
   },
   "outputs": [
    {
     "name": "stdout",
     "output_type": "stream",
     "text": [
      "categorical features:  ['Item_Fat_Content' 'Item_Type' 'Outlet_Location_Type' 'Outlet_Type']\n"
     ]
    }
   ],
   "source": [
    "factor_f = full_data.dtypes[full_data.dtypes == \"object\"].index\n",
    "factor_f = factor_f.drop([\"Type\"])\n",
    "print \"categorical features: \", factor_f.values"
   ]
  },
  {
   "cell_type": "code",
   "execution_count": 25,
   "metadata": {
    "collapsed": false
   },
   "outputs": [
    {
     "data": {
      "image/png": "[encoded data removed]",
      "text/plain": [
       "<matplotlib.figure.Figure at 0x11a170450>"
      ]
     },
     "metadata": {},
     "output_type": "display_data"
    }
   ],
   "source": [
    "# visulize the correlation matrix of numerical features \n",
    "\n",
    "cm = np.corrcoef(full_data[numeric_f].values.T)\n",
    "\n",
    "sns.set(font_scale = 1)\n",
    "hm = sns.heatmap(cm,\n",
    "                cbar = True,\n",
    "                annot = True,\n",
    "                square = True,\n",
    "                yticklabels = numeric_f, xticklabels = numeric_f)"
   ]
  },
  {
   "cell_type": "code",
   "execution_count": 26,
   "metadata": {
    "collapsed": false
   },
   "outputs": [
    {
     "data": {
      "text/plain": [
       "(14204, 10)"
      ]
     },
     "execution_count": 26,
     "metadata": {},
     "output_type": "execute_result"
    }
   ],
   "source": [
    "full_data.shape"
   ]
  },
  {
   "cell_type": "code",
   "execution_count": 27,
   "metadata": {
    "collapsed": false
   },
   "outputs": [
    {
     "data": {
      "image/png": "[encoded data removed]",
      "text/plain": [
       "<matplotlib.figure.Figure at 0x11d180850>"
      ]
     },
     "metadata": {},
     "output_type": "display_data"
    },
    {
     "data": {
      "image/png": "[encoded data removed]",
      "text/plain": [
       "<matplotlib.figure.Figure at 0x11d859510>"
      ]
     },
     "metadata": {},
     "output_type": "display_data"
    },
    {
     "data": {
      "image/png": "[encoded data removed]",
      "text/plain": [
       "<matplotlib.figure.Figure at 0x11da835d0>"
      ]
     },
     "metadata": {},
     "output_type": "display_data"
    },
    {
     "data": {
      "image/png": "[encoded data removed]",
      "text/plain": [
       "<matplotlib.figure.Figure at 0x11dd9c110>"
      ]
     },
     "metadata": {},
     "output_type": "display_data"
    }
   ],
   "source": [
    "for feature in factor_f:\n",
    "    fig, ax = pl.subplots(figsize = (12, 3))\n",
    "    feature = sns.boxplot(x = feature, y = \"Item_Outlet_Sales\", data = full_data[full_data[\"Type\"] == \"Train\"], ax = ax)"
   ]
  },
  {
   "cell_type": "code",
   "execution_count": 28,
   "metadata": {
    "collapsed": true
   },
   "outputs": [],
   "source": [
    "full_data = pd.get_dummies(full_data)"
   ]
  },
  {
   "cell_type": "code",
   "execution_count": 29,
   "metadata": {
    "collapsed": false
   },
   "outputs": [],
   "source": [
    "train = full_data[full_data[\"Type_Train\"] == 1]\n",
    "train_X = train.drop([\"Item_Outlet_Sales\", \"Type_Test\", \"Type_Train\"], axis = 1)\n",
    "train_y = full_data.loc[full_data[\"Type_Train\"] == 1, \"Item_Outlet_Sales\"]\n",
    "test = full_data[full_data[\"Type_Test\"] == 1 ]\n",
    "test_X = test.drop([\"Item_Outlet_Sales\", \"Type_Test\", \"Type_Train\"], axis = 1)"
   ]
  },
  {
   "cell_type": "code",
   "execution_count": 30,
   "metadata": {
    "collapsed": false
   },
   "outputs": [
    {
     "name": "stdout",
     "output_type": "stream",
     "text": [
      "<class 'pandas.core.frame.DataFrame'>\n",
      "MultiIndex: 8523 entries, (FDA15, OUT049) to (DRG01, OUT046)\n",
      "Data columns (total 29 columns):\n",
      "Item_MRP                           8523 non-null float64\n",
      "Item_Visibility                    8523 non-null float64\n",
      "Item_Weight                        8523 non-null float64\n",
      "Outlet_Establishment_Year          8523 non-null int64\n",
      "Item_Fat_Content_Low Fat           8523 non-null float64\n",
      "Item_Fat_Content_Regular           8523 non-null float64\n",
      "Item_Type_Baking Goods             8523 non-null float64\n",
      "Item_Type_Breads                   8523 non-null float64\n",
      "Item_Type_Breakfast                8523 non-null float64\n",
      "Item_Type_Canned                   8523 non-null float64\n",
      "Item_Type_Dairy                    8523 non-null float64\n",
      "Item_Type_Frozen Foods             8523 non-null float64\n",
      "Item_Type_Fruits and Vegetables    8523 non-null float64\n",
      "Item_Type_Hard Drinks              8523 non-null float64\n",
      "Item_Type_Health and Hygiene       8523 non-null float64\n",
      "Item_Type_Household                8523 non-null float64\n",
      "Item_Type_Meat                     8523 non-null float64\n",
      "Item_Type_Others                   8523 non-null float64\n",
      "Item_Type_Seafood                  8523 non-null float64\n",
      "Item_Type_Snack Foods              8523 non-null float64\n",
      "Item_Type_Soft Drinks              8523 non-null float64\n",
      "Item_Type_Starchy Foods            8523 non-null float64\n",
      "Outlet_Location_Type_Tier 1        8523 non-null float64\n",
      "Outlet_Location_Type_Tier 2        8523 non-null float64\n",
      "Outlet_Location_Type_Tier 3        8523 non-null float64\n",
      "Outlet_Type_Grocery Store          8523 non-null float64\n",
      "Outlet_Type_Supermarket Type1      8523 non-null float64\n",
      "Outlet_Type_Supermarket Type2      8523 non-null float64\n",
      "Outlet_Type_Supermarket Type3      8523 non-null float64\n",
      "dtypes: float64(28), int64(1)\n",
      "memory usage: 2.0+ MB\n"
     ]
    }
   ],
   "source": [
    "train_X.info()"
   ]
  },
  {
   "cell_type": "code",
   "execution_count": 31,
   "metadata": {
    "collapsed": false
   },
   "outputs": [
    {
     "data": {
      "text/plain": [
       "Item_Identifier  Outlet_Identifier\n",
       "FDA15            OUT049               3735.1380\n",
       "DRC01            OUT018                443.4228\n",
       "FDN15            OUT049               2097.2700\n",
       "FDX07            OUT010                732.3800\n",
       "NCD19            OUT013                994.7052\n",
       "Name: Item_Outlet_Sales, dtype: float64"
      ]
     },
     "execution_count": 31,
     "metadata": {},
     "output_type": "execute_result"
    }
   ],
   "source": [
    "train_y.head()"
   ]
  },
  {
   "cell_type": "code",
   "execution_count": 51,
   "metadata": {
    "collapsed": false
   },
   "outputs": [
    {
     "name": "stdout",
     "output_type": "stream",
     "text": [
      "<class 'pandas.core.frame.DataFrame'>\n",
      "MultiIndex: 5681 entries, (FDW58, OUT049) to (FDU37, OUT045)\n",
      "Data columns (total 29 columns):\n",
      "Item_MRP                           5681 non-null float64\n",
      "Item_Visibility                    5681 non-null float64\n",
      "Item_Weight                        5681 non-null float64\n",
      "Outlet_Establishment_Year          5681 non-null int64\n",
      "Item_Fat_Content_Low Fat           5681 non-null float64\n",
      "Item_Fat_Content_Regular           5681 non-null float64\n",
      "Item_Type_Baking Goods             5681 non-null float64\n",
      "Item_Type_Breads                   5681 non-null float64\n",
      "Item_Type_Breakfast                5681 non-null float64\n",
      "Item_Type_Canned                   5681 non-null float64\n",
      "Item_Type_Dairy                    5681 non-null float64\n",
      "Item_Type_Frozen Foods             5681 non-null float64\n",
      "Item_Type_Fruits and Vegetables    5681 non-null float64\n",
      "Item_Type_Hard Drinks              5681 non-null float64\n",
      "Item_Type_Health and Hygiene       5681 non-null float64\n",
      "Item_Type_Household                5681 non-null float64\n",
      "Item_Type_Meat                     5681 non-null float64\n",
      "Item_Type_Others                   5681 non-null float64\n",
      "Item_Type_Seafood                  5681 non-null float64\n",
      "Item_Type_Snack Foods              5681 non-null float64\n",
      "Item_Type_Soft Drinks              5681 non-null float64\n",
      "Item_Type_Starchy Foods            5681 non-null float64\n",
      "Outlet_Location_Type_Tier 1        5681 non-null float64\n",
      "Outlet_Location_Type_Tier 2        5681 non-null float64\n",
      "Outlet_Location_Type_Tier 3        5681 non-null float64\n",
      "Outlet_Type_Grocery Store          5681 non-null float64\n",
      "Outlet_Type_Supermarket Type1      5681 non-null float64\n",
      "Outlet_Type_Supermarket Type2      5681 non-null float64\n",
      "Outlet_Type_Supermarket Type3      5681 non-null float64\n",
      "dtypes: float64(28), int64(1)\n",
      "memory usage: 1.3+ MB\n"
     ]
    }
   ],
   "source": [
    "test_X.info()"
   ]
  },
  {
   "cell_type": "code",
   "execution_count": 35,
   "metadata": {
    "collapsed": false
   },
   "outputs": [],
   "source": [
    "from sklearn.metrics import mean_squared_error, make_scorer\n",
    "from sklearn.grid_search import GridSearchCV\n",
    "from sklearn.cross_validation import KFold\n",
    "from sklearn.cross_validation import train_test_split\n",
    "\n",
    "def performance_matrix(y_actual, y_predict):\n",
    "    return np.sqrt(mean_squared_error(y_actual, y_predict))\n",
    "\n",
    "scoring_function = make_scorer(performance_matrix, greater_is_better = False)\n",
    "X_train, X_test, y_train, y_test = train_test_split(train_X, train_y, test_size = 0.3, random_state = 101)"
   ]
  },
  {
   "cell_type": "code",
   "execution_count": 40,
   "metadata": {
    "collapsed": false
   },
   "outputs": [
    {
     "name": "stdout",
     "output_type": "stream",
     "text": [
      "in sample RMSE: 0.000000\n",
      "out of sample RMSE: 1512.236617\n"
     ]
    }
   ],
   "source": [
    "from sklearn.tree import DecisionTreeRegressor\n",
    "\n",
    "dtr = DecisionTreeRegressor()\n",
    "dtr = dtr.fit(X_train, y_train)\n",
    "\n",
    "y_train_pred = dtr.predict(X_train)\n",
    "y_test_pred = dtr.predict(X_test)\n",
    "\n",
    "print \"in sample RMSE: %.6f\" %performance_matrix(y_train, y_train_pred)\n",
    "print \"out of sample RMSE: %.6f\" %performance_matrix(y_test, y_test_pred)"
   ]
  },
  {
   "cell_type": "code",
   "execution_count": 49,
   "metadata": {
    "collapsed": false
   },
   "outputs": [
    {
     "name": "stdout",
     "output_type": "stream",
     "text": [
      "in sample RMSE: 1150.504969\n",
      "out of sample RMSE: 1076.751588\n"
     ]
    }
   ],
   "source": [
    "from sklearn.linear_model import Lasso\n",
    "\n",
    "lasso = Lasso()\n",
    "lasso = lasso.fit(X_train, y_train)\n",
    "\n",
    "y_train_pred = lasso.predict(X_train)\n",
    "y_test_pred = lasso.predict(X_test)\n",
    "\n",
    "print \"in sample RMSE: %.6f\" %performance_matrix(y_train, y_train_pred)\n",
    "print \"out of sample RMSE: %.6f\" %performance_matrix(y_test, y_test_pred)"
   ]
  },
  {
   "cell_type": "code",
   "execution_count": 62,
   "metadata": {
    "collapsed": true
   },
   "outputs": [],
   "source": [
    "import xgboost as xgb"
   ]
  },
  {
   "cell_type": "code",
   "execution_count": 63,
   "metadata": {
    "collapsed": false
   },
   "outputs": [
    {
     "name": "stdout",
     "output_type": "stream",
     "text": [
      "in sample RMSE: 1046.708364\n",
      "out of sample RMSE: 1024.095142\n"
     ]
    }
   ],
   "source": [
    "xgb_reg = xgb.XGBRegressor()\n",
    "xgb_reg = xgb_reg.fit(X_train, y_train)\n",
    "\n",
    "y_train_pred = xgb_reg.predict(X_train)\n",
    "y_test_pred = xgb_reg.predict(X_test)\n",
    "\n",
    "print \"in sample RMSE: %.6f\" %performance_matrix(y_train, y_train_pred)\n",
    "print \"out of sample RMSE: %.6f\" %performance_matrix(y_test, y_test_pred)"
   ]
  },
  {
   "cell_type": "code",
   "execution_count": 80,
   "metadata": {
    "collapsed": false
   },
   "outputs": [
    {
     "name": "stdout",
     "output_type": "stream",
     "text": [
      "{'objective': 'reg:linear', 'max_depth': 3, 'gamma': 0, 'min_child_weight': 0}\n"
     ]
    }
   ],
   "source": [
    "xgb_reg = xgb.XGBRegressor()\n",
    "parameters = {'objective':['reg:linear'], 'gamma': range(0,1), \n",
    "              'max_depth': range(3,6), 'min_child_weight': range(0,3)}\n",
    "xgb_reg_optimal = GridSearchCV(estimator = xgb_reg, param_grid = parameters,\n",
    "                              scoring = scoring_function)\n",
    "xgb_reg_optimal = xgb_reg_optimal.fit(train_X, train_y)\n",
    "print xgb_reg_optimal.best_params_"
   ]
  },
  {
   "cell_type": "code",
   "execution_count": 78,
   "metadata": {
    "collapsed": false
   },
   "outputs": [
    {
     "name": "stdout",
     "output_type": "stream",
     "text": [
      "in sample RMSE: 1046.708364\n",
      "out of sample RMSE: 1024.095142\n"
     ]
    }
   ],
   "source": [
    "xgb_reg = xgb.XGBRegressor(objective = 'reg:linear', max_depth = 3, \n",
    "                           gamma = 0, min_child_weight = 0)\n",
    "xgb_reg = xgb_reg.fit(X_train, y_train)\n",
    "\n",
    "y_train_pred = xgb_reg.predict(X_train)\n",
    "y_test_pred = xgb_reg.predict(X_test)\n",
    "\n",
    "print \"in sample RMSE: %.6f\" %performance_matrix(y_train, y_train_pred)\n",
    "print \"out of sample RMSE: %.6f\" %performance_matrix(y_test, y_test_pred)"
   ]
  },
  {
   "cell_type": "code",
   "execution_count": 67,
   "metadata": {
    "collapsed": true
   },
   "outputs": [],
   "source": [
    "lasso = Lasso()\n",
    "lasso = lasso.fit(train_X, train_y)\n",
    "test_pred_lasso = lasso.predict(test_X)"
   ]
  },
  {
   "cell_type": "code",
   "execution_count": 68,
   "metadata": {
    "collapsed": false
   },
   "outputs": [],
   "source": [
    "results_submission_lasso = pd.DataFrame(data = test_pred_lasso, index = test_X.index,\n",
    "                                       columns = ['Item_Outlet_Sales'])"
   ]
  },
  {
   "cell_type": "code",
   "execution_count": 69,
   "metadata": {
    "collapsed": false
   },
   "outputs": [],
   "source": [
    "results_submission_lasso.to_csv('result_lasso.csv')"
   ]
  },
  {
   "cell_type": "code",
   "execution_count": 81,
   "metadata": {
    "collapsed": true
   },
   "outputs": [],
   "source": [
    "xgb_reg = xgb.XGBRegressor(objective = 'reg:linear', max_depth = 3, \n",
    "                           gamma = 0, min_child_weight = 0)\n",
    "xgb_reg = xgb_reg.fit(train_X, train_y)\n",
    "test_pred_xgb = xgb_reg.predict(test_X)\n",
    "results_submission_xgb_reg = pd.DataFrame(data = test_pred_xgb, index = test_X.index, columns = ['Item_Outlet_Sales'])\n",
    "results_submission_xgb_reg.to_csv('result_xgb.csv')"
   ]
  },
  {
   "cell_type": "code",
   "execution_count": null,
   "metadata": {
    "collapsed": true
   },
   "outputs": [],
   "source": []
  }
 ],
 "metadata": {
  "anaconda-cloud": {},
  "kernelspec": {
   "display_name": "Python [Root]",
   "language": "python",
   "name": "Python [Root]"
  },
  "language_info": {
   "codemirror_mode": {
    "name": "ipython",
    "version": 2
   },
   "file_extension": ".py",
   "mimetype": "text/x-python",
   "name": "python",
   "nbconvert_exporter": "python",
   "pygments_lexer": "ipython2",
   "version": "2.7.12"
  }
 },
 "nbformat": 4,
 "nbformat_minor": 0
}
